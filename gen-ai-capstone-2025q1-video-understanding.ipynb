{
 "cells": [
  {
   "cell_type": "markdown",
   "id": "1b670533",
   "metadata": {
    "papermill": {
     "duration": 0.00437,
     "end_time": "2025-04-17T07:32:16.909742",
     "exception": false,
     "start_time": "2025-04-17T07:32:16.905372",
     "status": "completed"
    },
    "tags": []
   },
   "source": [
    "# Introduction"
   ]
  },
  {
   "cell_type": "markdown",
   "id": "96034c56",
   "metadata": {
    "papermill": {
     "duration": 0.002982,
     "end_time": "2025-04-17T07:32:16.916458",
     "exception": false,
     "start_time": "2025-04-17T07:32:16.913476",
     "status": "completed"
    },
    "tags": []
   },
   "source": [
    "This notebook aime is to test different technique and used cased focused on video understanding.\n",
    "\n",
    "First, being able to get structure description as it is something that could highly be valuable for the HR people. In order to get enough context with comparable elements of analyses.\n",
    "The second one focus on a more quantitative approach that would help to directly compare quantidate. We could even think about a specific formula to \"rate\" the interaction.\n",
    "The last call focus on Identify congruence and improvement. I believe that every attend should be able learning and developping human capabilities. So it could be a base to give feadback to the user.\n",
    "\n",
    "\n",
    "Gen AI Capabilities used\n",
    "- few shot prompting\n",
    "- Video understanding\n",
    "- Structure output"
   ]
  },
  {
   "cell_type": "markdown",
   "id": "ee420896",
   "metadata": {
    "papermill": {
     "duration": 0.002928,
     "end_time": "2025-04-17T07:32:16.922550",
     "exception": false,
     "start_time": "2025-04-17T07:32:16.919622",
     "status": "completed"
    },
    "tags": []
   },
   "source": [
    "# Prepare the environment"
   ]
  },
  {
   "cell_type": "code",
   "execution_count": 1,
   "id": "a4dff901",
   "metadata": {
    "execution": {
     "iopub.execute_input": "2025-04-17T07:32:16.930644Z",
     "iopub.status.busy": "2025-04-17T07:32:16.929780Z",
     "iopub.status.idle": "2025-04-17T07:32:23.393132Z",
     "shell.execute_reply": "2025-04-17T07:32:23.392150Z"
    },
    "papermill": {
     "duration": 6.469263,
     "end_time": "2025-04-17T07:32:23.394935",
     "exception": false,
     "start_time": "2025-04-17T07:32:16.925672",
     "status": "completed"
    },
    "tags": []
   },
   "outputs": [
    {
     "name": "stdout",
     "output_type": "stream",
     "text": [
      "\u001b[2K   \u001b[90m━━━━━━━━━━━━━━━━━━━━━━━━━━━━━━━━━━━━━━━━\u001b[0m \u001b[32m144.7/144.7 kB\u001b[0m \u001b[31m4.4 MB/s\u001b[0m eta \u001b[36m0:00:00\u001b[0m\r\n",
      "\u001b[2K   \u001b[90m━━━━━━━━━━━━━━━━━━━━━━━━━━━━━━━━━━━━━━━━\u001b[0m \u001b[32m100.9/100.9 kB\u001b[0m \u001b[31m4.4 MB/s\u001b[0m eta \u001b[36m0:00:00\u001b[0m\r\n",
      "\u001b[?25h"
     ]
    }
   ],
   "source": [
    "!pip install -Uq \"google-genai==1.7.0\""
   ]
  },
  {
   "cell_type": "code",
   "execution_count": 2,
   "id": "55ce58c2",
   "metadata": {
    "execution": {
     "iopub.execute_input": "2025-04-17T07:32:23.403998Z",
     "iopub.status.busy": "2025-04-17T07:32:23.403208Z",
     "iopub.status.idle": "2025-04-17T07:32:24.612398Z",
     "shell.execute_reply": "2025-04-17T07:32:24.611491Z"
    },
    "papermill": {
     "duration": 1.215274,
     "end_time": "2025-04-17T07:32:24.613964",
     "exception": false,
     "start_time": "2025-04-17T07:32:23.398690",
     "status": "completed"
    },
    "tags": []
   },
   "outputs": [
    {
     "data": {
      "text/plain": [
       "'1.7.0'"
      ]
     },
     "execution_count": 2,
     "metadata": {},
     "output_type": "execute_result"
    }
   ],
   "source": [
    "import os\n",
    "import os.path\n",
    "import base64\n",
    "\n",
    "from google import genai\n",
    "from google.genai import types\n",
    "\n",
    "from IPython.display import Markdown, display\n",
    "from kaggle_secrets import UserSecretsClient\n",
    "\n",
    "genai.__version__"
   ]
  },
  {
   "cell_type": "markdown",
   "id": "8d41b5f3",
   "metadata": {
    "papermill": {
     "duration": 0.003204,
     "end_time": "2025-04-17T07:32:24.622057",
     "exception": false,
     "start_time": "2025-04-17T07:32:24.618853",
     "status": "completed"
    },
    "tags": []
   },
   "source": [
    "Retrieve the Gemini API key to make futur requests. Please use the secret function from kaggle."
   ]
  },
  {
   "cell_type": "code",
   "execution_count": 3,
   "id": "5f62f2c3",
   "metadata": {
    "execution": {
     "iopub.execute_input": "2025-04-17T07:32:24.630032Z",
     "iopub.status.busy": "2025-04-17T07:32:24.629480Z",
     "iopub.status.idle": "2025-04-17T07:32:24.761096Z",
     "shell.execute_reply": "2025-04-17T07:32:24.760276Z"
    },
    "papermill": {
     "duration": 0.137326,
     "end_time": "2025-04-17T07:32:24.762701",
     "exception": false,
     "start_time": "2025-04-17T07:32:24.625375",
     "status": "completed"
    },
    "tags": []
   },
   "outputs": [],
   "source": [
    "GOOGLE_API_KEY = UserSecretsClient().get_secret(\"GOOGLE_API_KEY\")\n",
    "os.environ[\"GOOGLE_API_KEY\"] = GOOGLE_API_KEY"
   ]
  },
  {
   "cell_type": "markdown",
   "id": "a103c790",
   "metadata": {
    "papermill": {
     "duration": 0.00312,
     "end_time": "2025-04-17T07:32:24.769528",
     "exception": false,
     "start_time": "2025-04-17T07:32:24.766408",
     "status": "completed"
    },
    "tags": []
   },
   "source": [
    "# User Interaction"
   ]
  },
  {
   "cell_type": "markdown",
   "id": "bd7b7b8a",
   "metadata": {
    "papermill": {
     "duration": 0.00305,
     "end_time": "2025-04-17T07:32:24.775887",
     "exception": false,
     "start_time": "2025-04-17T07:32:24.772837",
     "status": "completed"
    },
    "tags": []
   },
   "source": [
    "You can use a video that you uploaded into kaggle or with a youtube video"
   ]
  },
  {
   "cell_type": "code",
   "execution_count": 4,
   "id": "f8fa4f0b",
   "metadata": {
    "execution": {
     "iopub.execute_input": "2025-04-17T07:32:24.784014Z",
     "iopub.status.busy": "2025-04-17T07:32:24.783263Z",
     "iopub.status.idle": "2025-04-17T07:32:24.788766Z",
     "shell.execute_reply": "2025-04-17T07:32:24.787979Z"
    },
    "papermill": {
     "duration": 0.010987,
     "end_time": "2025-04-17T07:32:24.790097",
     "exception": false,
     "start_time": "2025-04-17T07:32:24.779110",
     "status": "completed"
    },
    "tags": []
   },
   "outputs": [],
   "source": [
    "def get_file_or_youtube_link():\n",
    "    \"\"\"\n",
    "    Asks the user to enter either a local file path or a YouTube link.\n",
    "    Checks if the file exists locally if a file path is entered.\n",
    "\n",
    "    Returns:\n",
    "        str: The file path or YouTube link entered by the user.  Returns None if the file does not exist.\n",
    "    \"\"\"\n",
    "\n",
    "    while True:\n",
    "        user_input = input(\"Please enter a local file path or a YouTube link: \")\n",
    "\n",
    "        # Check if it looks like a file path\n",
    "        if os.path.exists(user_input):\n",
    "            return user_input  # Valid local file\n",
    "        elif \"youtube.com\" in user_input or \"youtu.be\" in user_input:\n",
    "            return user_input # Assume YouTube link if contains 'youtube.com' or 'youtu.be'\n",
    "        else:\n",
    "            print(\"Invalid input. Please enter a valid file path or a YouTube link.\")"
   ]
  },
  {
   "cell_type": "code",
   "execution_count": 5,
   "id": "17eeebd1",
   "metadata": {
    "execution": {
     "iopub.execute_input": "2025-04-17T07:32:24.797785Z",
     "iopub.status.busy": "2025-04-17T07:32:24.797542Z",
     "iopub.status.idle": "2025-04-17T07:32:24.894282Z",
     "shell.execute_reply": "2025-04-17T07:32:24.893078Z"
    },
    "papermill": {
     "duration": 0.102002,
     "end_time": "2025-04-17T07:32:24.895546",
     "exception": true,
     "start_time": "2025-04-17T07:32:24.793544",
     "status": "failed"
    },
    "tags": []
   },
   "outputs": [
    {
     "ename": "StdinNotImplementedError",
     "evalue": "raw_input was called, but this frontend does not support input requests.",
     "output_type": "error",
     "traceback": [
      "\u001b[0;31m---------------------------------------------------------------------------\u001b[0m",
      "\u001b[0;31mStdinNotImplementedError\u001b[0m                  Traceback (most recent call last)",
      "\u001b[0;32m/tmp/ipykernel_13/2430528729.py\u001b[0m in \u001b[0;36m<cell line: 0>\u001b[0;34m()\u001b[0m\n\u001b[0;32m----> 1\u001b[0;31m \u001b[0mfile_or_url\u001b[0m \u001b[0;34m=\u001b[0m \u001b[0mget_file_or_youtube_link\u001b[0m\u001b[0;34m(\u001b[0m\u001b[0;34m)\u001b[0m\u001b[0;34m\u001b[0m\u001b[0;34m\u001b[0m\u001b[0m\n\u001b[0m\u001b[1;32m      2\u001b[0m \u001b[0;32mif\u001b[0m \u001b[0mfile_or_url\u001b[0m\u001b[0;34m:\u001b[0m\u001b[0;34m\u001b[0m\u001b[0;34m\u001b[0m\u001b[0m\n\u001b[1;32m      3\u001b[0m     \u001b[0mprint\u001b[0m\u001b[0;34m(\u001b[0m\u001b[0;34mf\"You entered: {file_or_url}\"\u001b[0m\u001b[0;34m)\u001b[0m\u001b[0;34m\u001b[0m\u001b[0;34m\u001b[0m\u001b[0m\n\u001b[1;32m      4\u001b[0m     \u001b[0;32mif\u001b[0m \u001b[0mos\u001b[0m\u001b[0;34m.\u001b[0m\u001b[0mpath\u001b[0m\u001b[0;34m.\u001b[0m\u001b[0mexists\u001b[0m\u001b[0;34m(\u001b[0m\u001b[0mfile_or_url\u001b[0m\u001b[0;34m)\u001b[0m\u001b[0;34m:\u001b[0m\u001b[0;34m\u001b[0m\u001b[0;34m\u001b[0m\u001b[0m\n\u001b[1;32m      5\u001b[0m         \u001b[0mprint\u001b[0m\u001b[0;34m(\u001b[0m\u001b[0;34m\"This is a valid local file.\"\u001b[0m\u001b[0;34m)\u001b[0m\u001b[0;34m\u001b[0m\u001b[0;34m\u001b[0m\u001b[0m\n",
      "\u001b[0;32m/tmp/ipykernel_13/3654807535.py\u001b[0m in \u001b[0;36mget_file_or_youtube_link\u001b[0;34m()\u001b[0m\n\u001b[1;32m      9\u001b[0m \u001b[0;34m\u001b[0m\u001b[0m\n\u001b[1;32m     10\u001b[0m     \u001b[0;32mwhile\u001b[0m \u001b[0;32mTrue\u001b[0m\u001b[0;34m:\u001b[0m\u001b[0;34m\u001b[0m\u001b[0;34m\u001b[0m\u001b[0m\n\u001b[0;32m---> 11\u001b[0;31m         \u001b[0muser_input\u001b[0m \u001b[0;34m=\u001b[0m \u001b[0minput\u001b[0m\u001b[0;34m(\u001b[0m\u001b[0;34m\"Please enter a local file path or a YouTube link: \"\u001b[0m\u001b[0;34m)\u001b[0m\u001b[0;34m\u001b[0m\u001b[0;34m\u001b[0m\u001b[0m\n\u001b[0m\u001b[1;32m     12\u001b[0m \u001b[0;34m\u001b[0m\u001b[0m\n\u001b[1;32m     13\u001b[0m         \u001b[0;31m# Check if it looks like a file path\u001b[0m\u001b[0;34m\u001b[0m\u001b[0;34m\u001b[0m\u001b[0m\n",
      "\u001b[0;32m/usr/local/lib/python3.11/dist-packages/ipykernel/kernelbase.py\u001b[0m in \u001b[0;36mraw_input\u001b[0;34m(self, prompt)\u001b[0m\n\u001b[1;32m   1172\u001b[0m         \"\"\"\n\u001b[1;32m   1173\u001b[0m         \u001b[0;32mif\u001b[0m \u001b[0;32mnot\u001b[0m \u001b[0mself\u001b[0m\u001b[0;34m.\u001b[0m\u001b[0m_allow_stdin\u001b[0m\u001b[0;34m:\u001b[0m\u001b[0;34m\u001b[0m\u001b[0;34m\u001b[0m\u001b[0m\n\u001b[0;32m-> 1174\u001b[0;31m             raise StdinNotImplementedError(\n\u001b[0m\u001b[1;32m   1175\u001b[0m                 \u001b[0;34m\"raw_input was called, but this frontend does not support input requests.\"\u001b[0m\u001b[0;34m\u001b[0m\u001b[0;34m\u001b[0m\u001b[0m\n\u001b[1;32m   1176\u001b[0m             )\n",
      "\u001b[0;31mStdinNotImplementedError\u001b[0m: raw_input was called, but this frontend does not support input requests."
     ]
    }
   ],
   "source": [
    "file_or_url = get_file_or_youtube_link()\n",
    "if file_or_url:\n",
    "    print(f\"You entered: {file_or_url}\")\n",
    "    if os.path.exists(file_or_url):\n",
    "        print(\"This is a valid local file.\")\n",
    "    else:\n",
    "        print(\"This is a YouTube link.\")\n",
    "else:\n",
    "    print(\"No valid file or link was provided.\")"
   ]
  },
  {
   "cell_type": "markdown",
   "id": "dc3e5575",
   "metadata": {
    "papermill": {
     "duration": null,
     "end_time": null,
     "exception": null,
     "start_time": null,
     "status": "pending"
    },
    "tags": []
   },
   "source": [
    "# Prompt to  analyse"
   ]
  },
  {
   "cell_type": "code",
   "execution_count": null,
   "id": "245803c0",
   "metadata": {
    "execution": {
     "iopub.execute_input": "2025-04-17T07:26:32.151236Z",
     "iopub.status.busy": "2025-04-17T07:26:32.150979Z",
     "iopub.status.idle": "2025-04-17T07:26:45.130521Z",
     "shell.execute_reply": "2025-04-17T07:26:45.129827Z",
     "shell.execute_reply.started": "2025-04-17T07:26:32.151217Z"
    },
    "papermill": {
     "duration": null,
     "end_time": null,
     "exception": null,
     "start_time": null,
     "status": "pending"
    },
    "tags": []
   },
   "outputs": [],
   "source": [
    "#Create a function that analyse the video uploaded by the user. \n",
    "#It has a structured output to get some structure to the output.\n",
    "#The temperature config is low in order to have an output that fit the output.\n",
    "def videoanalyse():\n",
    "    client = genai.Client(\n",
    "        api_key=GOOGLE_API_KEY,\n",
    "    )\n",
    "\n",
    "    model = \"gemini-2.0-flash\"\n",
    "    contents = [\n",
    "        types.Content(\n",
    "            role=\"user\",\n",
    "            parts=[\n",
    "                types.Part.from_uri(\n",
    "                    file_uri=file_or_url,\n",
    "                    mime_type=\"video/*\",\n",
    "                ),\n",
    "            ],\n",
    "        ),\n",
    "    ]\n",
    "    generate_content_config = types.GenerateContentConfig(\n",
    "        temperature=0.1,\n",
    "        response_mime_type=\"application/json\",\n",
    "        response_schema=genai.types.Schema(\n",
    "                        type = genai.types.Type.OBJECT,\n",
    "                        properties = {\n",
    "                            \"Body language\": genai.types.Schema(\n",
    "                                type = genai.types.Type.OBJECT,\n",
    "                                properties = {\n",
    "                                    \"Eyes contact\": genai.types.Schema(\n",
    "                                        type = genai.types.Type.STRING,\n",
    "                                    ),\n",
    "                                },\n",
    "                            ),\n",
    "                            \"Language\": genai.types.Schema(\n",
    "                                type = genai.types.Type.OBJECT,\n",
    "                                properties = {\n",
    "                                    \"Word Choice (Lexicon)\": genai.types.Schema(\n",
    "                                        type = genai.types.Type.OBJECT,\n",
    "                                        properties = {\n",
    "                                            \"Formal vs. Informal Language\": genai.types.Schema(\n",
    "                                                type = genai.types.Type.STRING,\n",
    "                                            ),\n",
    "                                            \"Euphemisms & Jargon\": genai.types.Schema(\n",
    "                                                type = genai.types.Type.STRING,\n",
    "                                            ),\n",
    "                                            \"Qualifiers & Hedges\": genai.types.Schema(\n",
    "                                                type = genai.types.Type.STRING,\n",
    "                                            ),\n",
    "                                            \"Intensifiers\": genai.types.Schema(\n",
    "                                                type = genai.types.Type.STRING,\n",
    "                                            ),\n",
    "                                            \"Positive vs. Negative Framing\": genai.types.Schema(\n",
    "                                                type = genai.types.Type.STRING,\n",
    "                                            ),\n",
    "                                            \"Pronoun Usage\": genai.types.Schema(\n",
    "                                                type = genai.types.Type.STRING,\n",
    "                                            ),\n",
    "                                        },\n",
    "                                    ),\n",
    "                                    \"Syntax\": genai.types.Schema(\n",
    "                                        type = genai.types.Type.OBJECT,\n",
    "                                        properties = {\n",
    "                                            \"Complex vs. Simple Sentences\": genai.types.Schema(\n",
    "                                                type = genai.types.Type.STRING,\n",
    "                                            ),\n",
    "                                            \"Passive vs. Active Voice\": genai.types.Schema(\n",
    "                                                type = genai.types.Type.STRING,\n",
    "                                            ),\n",
    "                                            \"Sentence Fragments\": genai.types.Schema(\n",
    "                                                type = genai.types.Type.STRING,\n",
    "                                            ),\n",
    "                                            \"Tangential Speech\": genai.types.Schema(\n",
    "                                                type = genai.types.Type.STRING,\n",
    "                                            ),\n",
    "                                        },\n",
    "                                    ),\n",
    "                                },\n",
    "                            ),\n",
    "                            \"Content Analysis\": genai.types.Schema(\n",
    "                                type = genai.types.Type.OBJECT,\n",
    "                                properties = {\n",
    "                                    \"Omissions\": genai.types.Schema(\n",
    "                                        type = genai.types.Type.STRING,\n",
    "                                    ),\n",
    "                                    \"Contradictions\": genai.types.Schema(\n",
    "                                        type = genai.types.Type.STRING,\n",
    "                                    ),\n",
    "                                    \"Rationalizations & Justifications\": genai.types.Schema(\n",
    "                                        type = genai.types.Type.STRING,\n",
    "                                    ),\n",
    "                                    \"Story Coherence\": genai.types.Schema(\n",
    "                                        type = genai.types.Type.STRING,\n",
    "                                    ),\n",
    "                                },\n",
    "                            ),\n",
    "                        },\n",
    "                    ),\n",
    "                    system_instruction=[\n",
    "                types.Part.from_text(text=\"You are a professinnal psychology analyse\"),\n",
    "            ]\n",
    "    )\n",
    "\n",
    "    for chunk in client.models.generate_content_stream(\n",
    "        model=model,\n",
    "        contents=contents,\n",
    "        config=generate_content_config,\n",
    "    ):\n",
    "        print(chunk.text, end=\"\")\n",
    "\n",
    "#We save the output as it can be used to get learning on it.\n",
    "video_analyses = videoanalyse()"
   ]
  },
  {
   "cell_type": "code",
   "execution_count": null,
   "id": "234eadea",
   "metadata": {
    "execution": {
     "iopub.execute_input": "2025-04-17T07:26:45.131569Z",
     "iopub.status.busy": "2025-04-17T07:26:45.131374Z",
     "iopub.status.idle": "2025-04-17T07:26:52.897641Z",
     "shell.execute_reply": "2025-04-17T07:26:52.896957Z",
     "shell.execute_reply.started": "2025-04-17T07:26:45.131553Z"
    },
    "papermill": {
     "duration": null,
     "end_time": null,
     "exception": null,
     "start_time": null,
     "status": "pending"
    },
    "tags": []
   },
   "outputs": [],
   "source": [
    "#This function is the same as the previous. However it is interesting to note that the model will now rank each elements from 1 to 5.\n",
    "#It provides a easier way to compare different presentation and people.\n",
    "#Not required for next run\n",
    "\n",
    "def videoanalysenum():\n",
    "    client = genai.Client(\n",
    "        api_key=GOOGLE_API_KEY,\n",
    "    )\n",
    "\n",
    "    model = \"gemini-2.0-flash\"\n",
    "    contents = [\n",
    "        types.Content(\n",
    "            role=\"user\",\n",
    "            parts=[\n",
    "                types.Part.from_uri(\n",
    "                    file_uri=file_or_url,\n",
    "                    mime_type=\"video/*\",\n",
    "                ),\n",
    "            ],\n",
    "        ),\n",
    "    ]\n",
    "    generate_content_config = types.GenerateContentConfig(\n",
    "        temperature=0.1,\n",
    "        response_mime_type=\"application/json\",\n",
    "        response_schema=genai.types.Schema(\n",
    "                        type = genai.types.Type.OBJECT,\n",
    "                        properties = {\n",
    "                            \"Body language\": genai.types.Schema(\n",
    "                                type = genai.types.Type.OBJECT,\n",
    "                                properties = {\n",
    "                                    \"Eyes contact\": genai.types.Schema(\n",
    "                                        type = genai.types.Type.STRING,\n",
    "                                        enum = [\"1\", \"2\", \"3\", \"4\", \"5\"],\n",
    "                                    ),\n",
    "                                },\n",
    "                            ),\n",
    "                            \"Language\": genai.types.Schema(\n",
    "                                type = genai.types.Type.OBJECT,\n",
    "                                properties = {\n",
    "                                    \"Word Choice (Lexicon)\": genai.types.Schema(\n",
    "                                        type = genai.types.Type.OBJECT,\n",
    "                                        properties = {\n",
    "                                            \"Formal vs. Informal Language\": genai.types.Schema(\n",
    "                                                type = genai.types.Type.STRING,\n",
    "                                                enum = [\"1\", \"2\", \"3\", \"4\", \"5\"],\n",
    "                                            ),\n",
    "                                            \"Euphemisms & Jargon\": genai.types.Schema(\n",
    "                                                type = genai.types.Type.STRING,\n",
    "                                                enum = [\"1\", \"2\", \"3\", \"4\", \"5\"],\n",
    "                                            ),\n",
    "                                            \"Qualifiers & Hedges\": genai.types.Schema(\n",
    "                                                type = genai.types.Type.STRING,\n",
    "                                                enum = [\"1\", \"2\", \"3\", \"4\", \"5\"],\n",
    "                                            ),\n",
    "                                            \"Intensifiers\": genai.types.Schema(\n",
    "                                                type = genai.types.Type.STRING,\n",
    "                                                enum = [\"1\", \"2\", \"3\", \"4\", \"5\"],\n",
    "                                            ),\n",
    "                                            \"Positive vs. Negative Framing\": genai.types.Schema(\n",
    "                                                type = genai.types.Type.STRING,\n",
    "                                                enum = [\"1\", \"2\", \"3\", \"4\", \"5\"],\n",
    "                                            ),\n",
    "                                            \"Pronoun Usage\": genai.types.Schema(\n",
    "                                                type = genai.types.Type.STRING,\n",
    "                                                enum = [\"1\", \"2\", \"3\", \"4\", \"5\"],\n",
    "                                            ),\n",
    "                                        },\n",
    "                                    ),\n",
    "                                    \"Syntax\": genai.types.Schema(\n",
    "                                        type = genai.types.Type.OBJECT,\n",
    "                                        properties = {\n",
    "                                            \"Complex vs. Simple Sentences\": genai.types.Schema(\n",
    "                                                type = genai.types.Type.STRING,\n",
    "                                                enum = [\"1\", \"2\", \"3\", \"4\", \"5\"],\n",
    "                                            ),\n",
    "                                            \"Passive vs. Active Voice\": genai.types.Schema(\n",
    "                                                type = genai.types.Type.STRING,\n",
    "                                                enum = [\"1\", \"2\", \"3\", \"4\", \"5\"],\n",
    "                                            ),\n",
    "                                            \"Sentence Fragments\": genai.types.Schema(\n",
    "                                                type = genai.types.Type.STRING,\n",
    "                                                enum = [\"1\", \"2\", \"3\", \"4\", \"5\"],\n",
    "                                            ),\n",
    "                                            \"Tangential Speech\": genai.types.Schema(\n",
    "                                                type = genai.types.Type.STRING,\n",
    "                                                enum = [\"1\", \"2\", \"3\", \"4\", \"5\"],\n",
    "                                            ),\n",
    "                                        },\n",
    "                                    ),\n",
    "                                },\n",
    "                            ),\n",
    "                            \"Content Analysis\": genai.types.Schema(\n",
    "                                type = genai.types.Type.OBJECT,\n",
    "                                properties = {\n",
    "                                    \"Omissions\": genai.types.Schema(\n",
    "                                        type = genai.types.Type.STRING,\n",
    "                                        enum = [\"1\", \"2\", \"3\", \"4\", \"5\"],\n",
    "                                    ),\n",
    "                                    \"Contradictions\": genai.types.Schema(\n",
    "                                        type = genai.types.Type.STRING,\n",
    "                                        enum = [\"1\", \"2\", \"3\", \"4\", \"5\"],\n",
    "                                    ),\n",
    "                                    \"Rationalizations & Justifications\": genai.types.Schema(\n",
    "                                        type = genai.types.Type.STRING,\n",
    "                                        enum = [\"1\", \"2\", \"3\", \"4\", \"5\"],\n",
    "                                    ),\n",
    "                                    \"Story Coherence\": genai.types.Schema(\n",
    "                                        type = genai.types.Type.STRING,\n",
    "                                        enum = [\"1\", \"2\", \"3\", \"4\", \"5\"],\n",
    "                                    ),\n",
    "                                },\n",
    "                            ),\n",
    "                        },\n",
    "                    ),\n",
    "            system_instruction=[\n",
    "                types.Part.from_text(text=\"You are a professinnal psychology analyse\"),\n",
    "            ]\n",
    "    )\n",
    "\n",
    "    for chunk in client.models.generate_content_stream(\n",
    "        model=model,\n",
    "        contents=contents,\n",
    "        config=generate_content_config,\n",
    "    ):\n",
    "        print(chunk.text, end=\"\")\n",
    "\n",
    "videoanalysenum()"
   ]
  },
  {
   "cell_type": "code",
   "execution_count": null,
   "id": "b57d7dfe",
   "metadata": {
    "execution": {
     "iopub.execute_input": "2025-04-17T07:26:52.899114Z",
     "iopub.status.busy": "2025-04-17T07:26:52.898560Z",
     "iopub.status.idle": "2025-04-17T07:26:52.903275Z",
     "shell.execute_reply": "2025-04-17T07:26:52.902694Z",
     "shell.execute_reply.started": "2025-04-17T07:26:52.899076Z"
    },
    "papermill": {
     "duration": null,
     "end_time": null,
     "exception": null,
     "start_time": null,
     "status": "pending"
    },
    "tags": []
   },
   "outputs": [],
   "source": [
    "#few shot example to show congruence and incongruence\n",
    "\n",
    "few_shot_examples = \"\"\"\n",
    "examples of Congruence (Matching):\n",
    "A person says \"I'm very excited about this project\" with genuine enthusiasm in their voice, a wide smile, open posture, and forward leaning.\n",
    "Someone expresses sadness about a situation while exhibiting a downcast expression, slumped posture, and speaking in a quiet, monotone voice.\n",
    "Examples of Incongruence (Mismatching - Potential Red Flags):\n",
    "A person says \"I'm not nervous at all\" while visibly sweating, fidgeting, and avoiding eye contact. (Possible deception or discomfort).\n",
    "Someone delivers an apology while smiling slightly and maintaining a closed-off posture. (Potentially insincere apology).\n",
    "A person describes a positive experience using hesitant language (qualifiers, pauses) while exhibiting microexpressions of discomfort or disgust. (Conflicted feelings or concealed negative experience).\n",
    "A person states confidently their interest in a conversation but consistently turns their body away.\n",
    "\n",
    "Analyze the following video for congruence/incongruence basExed on the examples above:\n",
    "\"\"\"\n",
    "\n",
    "#We bring everything together to have a generic answer\n",
    "Sysinst = \"\"\"You are a professional bodylangue analyst. \n",
    "Give a global description of the video about his topic and elements\n",
    "\n",
    "{few_shot_examples} give potential congruence on this video.\n",
    "\n",
    "For each point on {video_analyses} give idea to improve and work on it\n",
    "\n",
    "\"\"\"\n",
    "\n"
   ]
  },
  {
   "cell_type": "code",
   "execution_count": null,
   "id": "3669c467",
   "metadata": {
    "execution": {
     "iopub.execute_input": "2025-04-17T07:26:52.904259Z",
     "iopub.status.busy": "2025-04-17T07:26:52.904075Z",
     "iopub.status.idle": "2025-04-17T07:27:04.246079Z",
     "shell.execute_reply": "2025-04-17T07:27:04.245077Z",
     "shell.execute_reply.started": "2025-04-17T07:26:52.904244Z"
    },
    "papermill": {
     "duration": null,
     "end_time": null,
     "exception": null,
     "start_time": null,
     "status": "pending"
    },
    "tags": []
   },
   "outputs": [],
   "source": [
    "def General():\n",
    "    client = genai.Client(\n",
    "        api_key=GOOGLE_API_KEY,\n",
    "    )\n",
    "\n",
    "    model = \"gemini-2.0-flash\"\n",
    "    contents = [\n",
    "        types.Content(\n",
    "            role=\"user\",\n",
    "            parts=[\n",
    "                types.Part.from_uri(\n",
    "                    file_uri=file_or_url,\n",
    "                    mime_type=\"video/*\",\n",
    "                )\n",
    "            ],\n",
    "        ),\n",
    "    ]\n",
    "    generate_content_config = types.GenerateContentConfig(\n",
    "        temperature=1.2,\n",
    "        response_mime_type=\"text/plain\",\n",
    "        system_instruction=[\n",
    "            types.Part.from_text(text=Sysinst),\n",
    "        ],\n",
    "    )\n",
    "\n",
    "    for chunk in client.models.generate_content_stream(\n",
    "        model=model,\n",
    "        contents=contents,\n",
    "        config=generate_content_config,\n",
    "    ):\n",
    "        print(chunk.text, end=\"\")\n",
    "\n",
    "if __name__ == \"__main__\":\n",
    "    General()\n"
   ]
  }
 ],
 "metadata": {
  "kaggle": {
   "accelerator": "none",
   "dataSources": [
    {
     "sourceId": 97258,
     "sourceType": "competition"
    }
   ],
   "dockerImageVersionId": 31012,
   "isGpuEnabled": false,
   "isInternetEnabled": true,
   "language": "python",
   "sourceType": "notebook"
  },
  "kernelspec": {
   "display_name": "Python 3",
   "language": "python",
   "name": "python3"
  },
  "language_info": {
   "codemirror_mode": {
    "name": "ipython",
    "version": 3
   },
   "file_extension": ".py",
   "mimetype": "text/x-python",
   "name": "python",
   "nbconvert_exporter": "python",
   "pygments_lexer": "ipython3",
   "version": "3.11.11"
  },
  "papermill": {
   "default_parameters": {},
   "duration": 13.587875,
   "end_time": "2025-04-17T07:32:25.517918",
   "environment_variables": {},
   "exception": true,
   "input_path": "__notebook__.ipynb",
   "output_path": "__notebook__.ipynb",
   "parameters": {},
   "start_time": "2025-04-17T07:32:11.930043",
   "version": "2.6.0"
  }
 },
 "nbformat": 4,
 "nbformat_minor": 5
}
